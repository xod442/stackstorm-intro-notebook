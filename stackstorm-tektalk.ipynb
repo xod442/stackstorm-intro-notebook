{
 "cells": [
  {
   "cell_type": "markdown",
   "metadata": {},
   "source": [
    "# Stackstrom Introduction"
   ]
  },
  {
   "cell_type": "markdown",
   "metadata": {},
   "source": [
    "This notebook will walk you through some of the basics of stackstorm. This notebook has been developed to accomodate mutiple users logging into the same stackstorm server. This is not by any means a super deep dive but hopefully will explain why stackstorm should be in your automation toolbag. Run the following cell to see an overview of the different components.\n"
   ]
  },
  {
   "cell_type": "markdown",
   "metadata": {},
   "source": [
    "<img src=\"http://www.techworldwookie.com/images/st2-overview.jpg\" width=\"600\" height=\"600\">"
   ]
  },
  {
   "cell_type": "markdown",
   "metadata": {},
   "source": [
    "StackStrom is a automation framework that uses **Sensors** to watch and listen to alarm/event queues. **Triggers** to tell **Rules** when to launch, and **Actions/Workflows** to change the existing state."
   ]
  },
  {
   "cell_type": "markdown",
   "metadata": {},
   "source": [
    "A quick check of the StackStorm (st2) version."
   ]
  },
  {
   "cell_type": "code",
   "execution_count": 2,
   "metadata": {
    "collapsed": true
   },
   "outputs": [
    {
     "name": "stdout",
     "output_type": "stream",
     "text": [
      "st2 3.1.0, on Python 3.6.8\n"
     ]
    }
   ],
   "source": [
    "%%bash\n",
    "st2 --version"
   ]
  },
  {
   "cell_type": "markdown",
   "metadata": {},
   "source": [
    "Getting help with st2"
   ]
  },
  {
   "cell_type": "code",
   "execution_count": 3,
   "metadata": {
    "collapsed": true
   },
   "outputs": [
    {
     "name": "stdout",
     "output_type": "stream",
     "text": [
      "usage: st2 [-h] [--version] [--url BASE_URL] [--auth-url AUTH_URL]\n",
      "           [--api-url API_URL] [--stream-url STREAM_URL]\n",
      "           [--api-version API_VERSION] [--cacert CACERT]\n",
      "           [--config-file CONFIG_FILE] [--print-config] [--skip-config]\n",
      "           [--debug]\n",
      "           {run,action,action-alias,auth,login,whoami,apikey,execution,inquiry,key,pack,policy,policy-type,rule,webhook,timer,runner,sensor,trace,trigger,trigger-instance,rule-enforcement,workflow,service-registry,role,role-assignment}\n",
      "           ...\n",
      "\n",
      "CLI for StackStorm event-driven automation platform. https://stackstorm.com\n",
      "\n",
      "positional arguments:\n",
      "  {run,action,action-alias,auth,login,whoami,apikey,execution,inquiry,key,pack,policy,policy-type,rule,webhook,timer,runner,sensor,trace,trigger,trigger-instance,rule-enforcement,workflow,service-registry,role,role-assignment}\n",
      "    run                 Invoke an action manually.\n",
      "    action              An activity that happens as a response to the external\n",
      "                        event.\n",
      "    action-alias        Action aliases.\n",
      "    auth                Authenticate user and acquire access token.\n",
      "    login               Authenticate user, acquire access token, and update\n",
      "                        CLI config directory\n",
      "    whoami              Display the currently authenticated user\n",
      "    apikey              API Keys.\n",
      "    execution           An invocation of an action.\n",
      "    inquiry             Inquiries provide an opportunity to ask a question and\n",
      "                        wait for a response in a workflow.\n",
      "    key                 Key value pair is used to store commonly used\n",
      "                        configuration for reuse in sensors, actions, and\n",
      "                        rules.\n",
      "    pack                A group of related integration resources: actions,\n",
      "                        rules, and sensors.\n",
      "    policy              Policy that is enforced on a resource.\n",
      "    policy-type         Type of policy that can be applied to resources.\n",
      "    rule                A specification to invoke an \"action\" on a \"trigger\"\n",
      "                        selectively based on some criteria.\n",
      "    webhook             Webhooks.\n",
      "    timer               Timers.\n",
      "    runner              Runner is a type of handler for a specific class of\n",
      "                        actions.\n",
      "    sensor              An adapter which allows you to integrate StackStorm\n",
      "                        with external system.\n",
      "    trace               A group of executions, rules and triggerinstances that\n",
      "                        are related.\n",
      "    trigger             An external event that is mapped to a st2 input. It is\n",
      "                        the st2 invocation point.\n",
      "    trigger-instance    Actual instances of triggers received by st2.\n",
      "    rule-enforcement    Models that represent enforcement of rules.\n",
      "    workflow            Commands for workflow authoring related operations.\n",
      "                        Only orquesta workflows are supported.\n",
      "    service-registry    Service registry group and membership related\n",
      "                        commands.\n",
      "    role                RBAC roles.\n",
      "    role-assignment     RBAC role assignments.\n",
      "\n",
      "optional arguments:\n",
      "  -h, --help            show this help message and exit\n",
      "  --version             show program's version number and exit\n",
      "  --url BASE_URL        Base URL for the API servers. Assumes all servers use\n",
      "                        the same base URL and default ports are used. Get\n",
      "                        ST2_BASE_URL from the environment variables by\n",
      "                        default.\n",
      "  --auth-url AUTH_URL   URL for the authentication service. Get ST2_AUTH_URL\n",
      "                        from the environment variables by default.\n",
      "  --api-url API_URL     URL for the API server. Get ST2_API_URL from the\n",
      "                        environment variables by default.\n",
      "  --stream-url STREAM_URL\n",
      "                        URL for the stream endpoint. Get ST2_STREAM_URLfrom\n",
      "                        the environment variables by default.\n",
      "  --api-version API_VERSION\n",
      "                        API version to use. Get ST2_API_VERSION from the\n",
      "                        environment variables by default.\n",
      "  --cacert CACERT       Path to the CA cert bundle for the SSL endpoints. Get\n",
      "                        ST2_CACERT from the environment variables by default.\n",
      "                        If this is not provided, then SSL cert will not be\n",
      "                        verified.\n",
      "  --config-file CONFIG_FILE\n",
      "                        Path to the CLI config file\n",
      "  --print-config        Parse the config file and print the values\n",
      "  --skip-config         Don't parse and use the CLI config file\n",
      "  --debug               Enable debug mode\n"
     ]
    }
   ],
   "source": [
    "%%bash\n",
    "st2 -h"
   ]
  },
  {
   "cell_type": "markdown",
   "metadata": {},
   "source": [
    "Stackstorm is a platform that you will need to sign in to. Use the installation password.Change password if needed."
   ]
  },
  {
   "cell_type": "code",
   "execution_count": 4,
   "metadata": {
    "collapsed": true
   },
   "outputs": [
    {
     "name": "stdout",
     "output_type": "stream",
     "text": [
      "Logged in as st2admin\n",
      "\n",
      "Note: You didn't use --write-password option so the password hasn't been stored in the client config and you will need to login again in 24 hours when the auth token expires.\n",
      "As an alternative, you can run st2 login command with the \"--write-password\" flag, but keep it mind this will cause it to store the password in plain-text in the client config file (~/.st2/config).\n"
     ]
    }
   ],
   "source": [
    "%%bash\n",
    "st2 login st2admin --password \"siesta3\""
   ]
  },
  {
   "cell_type": "markdown",
   "metadata": {},
   "source": [
    "Actions are the workhorse of stackstorm. From the diagram above they are the last thing that gets called to kick off some form of automation. To see what actions you have installed on your st2 server run this."
   ]
  },
  {
   "cell_type": "code",
   "execution_count": 20,
   "metadata": {
    "collapsed": true
   },
   "outputs": [
    {
     "name": "stdout",
     "output_type": "stream",
     "text": [
      "+----------------------------------+---------------+----------------------------------------------------+\n",
      "| ref                              | pack          | description                                        |\n",
      "+----------------------------------+---------------+----------------------------------------------------+\n",
      "| arubacx.get_system               | arubacx       | Get a dump of system information from Aruba CX     |\n",
      "|                                  |               | switch                                             |\n",
      "| arubacx.get_vlans                | arubacx       | Get a python dictionary of vlans from an Aruba CX  |\n",
      "|                                  |               | switch                                             |\n",
      "| arubacx.post_vlans               | arubacx       | Add vlans to an Aruba CX switch                    |\n",
      "| chatops.format_execution_result  | chatops       | Format an execution result for chatops             |\n",
      "| chatops.match                    | chatops       | Match a string to an action alias                  |\n",
      "| chatops.match_and_execute        | chatops       | Execute a chatops string to an action alias        |\n",
      "| chatops.post_message             | chatops       | Post a message to stream for chatops               |\n",
      "| chatops.post_result              | chatops       | Post an execution result to stream for chatops     |\n",
      "| chatops.run                      | chatops       | Match a text chatops command, execute it and post  |\n",
      "|                                  |               | the result                                         |\n",
      "| core.announcement                | core          | Action that broadcasts the announcement to all     |\n",
      "|                                  |               | stream consumers.                                  |\n",
      "| core.ask                         | core          | Action for initiating an Inquiry (usually in a     |\n",
      "|                                  |               | workflow)                                          |\n",
      "| core.echo                        | core          | Action that executes the Linux echo command on the |\n",
      "|                                  |               | localhost.                                         |\n",
      "| core.http                        | core          | Action that performs an http request.              |\n",
      "| core.inject_trigger              | core          | Action which injects a new trigger in the system.  |\n",
      "| core.local                       | core          | Action that executes an arbitrary Linux command on |\n",
      "|                                  |               | the localhost.                                     |\n",
      "| core.local_sudo                  | core          | Action that executes an arbitrary Linux command on |\n",
      "|                                  |               | the localhost.                                     |\n",
      "| core.noop                        | core          | Action that does nothing                           |\n",
      "| core.pause                       | core          | Action to pause current thread of workflow/sub-    |\n",
      "|                                  |               | workflow.                                          |\n",
      "| core.remote                      | core          | Action to execute arbitrary linux command          |\n",
      "|                                  |               | remotely.                                          |\n",
      "| core.remote_sudo                 | core          | Action to execute arbitrary linux command          |\n",
      "|                                  |               | remotely.                                          |\n",
      "| core.sendmail                    | core          | This sends an email                                |\n",
      "| core.uuid                        | core          | Generate a new UUID (default uuid4)                |\n",
      "| core.winrm_cmd                   | core          | Action to execute arbitrary Windows Command Prompt |\n",
      "|                                  |               | command remotely via WinRM.                        |\n",
      "| core.winrm_ps_cmd                | core          | Action to execute arbitrary Windows PowerShell     |\n",
      "|                                  |               | command remotely via WinRM.                        |\n",
      "| hpecfm.create_backup             | hpecfm        | create a new backup on the HPE Composable Fabric   |\n",
      "|                                  |               | Manager controller                                 |\n",
      "| hpecfm.get_alarms                | hpecfm        | Get an array of alarms from the hpecfm controller  |\n",
      "| hpecfm.get_events                | hpecfm        | Get an array of events from the hpecfm controller  |\n",
      "| hpecfm.get_fabric_ips            | hpecfm        | Get an array of switchesfabric ip addresses from   |\n",
      "|                                  |               | the plexxi controller                              |\n",
      "| hpecfm.get_fabrics               | hpecfm        | Get an array of fabrics from the plexxi controller |\n",
      "| hpecfm.get_lags                  | hpecfm        | Get an array of lag settings from the cfm          |\n",
      "|                                  |               | controller.                                        |\n",
      "| hpecfm.get_switches              | hpecfm        | Get an array of switches from the hpecfm           |\n",
      "|                                  |               | controller                                         |\n",
      "| hpecfm.getfabric_for_fit         | hpecfm        | A workflow for getting CFM fabrics from the        |\n",
      "|                                  |               | controller.                                        |\n",
      "| hpecfm.getswitches               | hpecfm        | A workflow for getting plexxi switches into        |\n",
      "|                                  |               | stackstorm.                                        |\n",
      "| hpecfm.performfit                | hpecfm        | A workflow for performing a fit on the CFM         |\n",
      "|                                  |               | controller.                                        |\n",
      "| hpecfm.post_fit                  | hpecfm        | Perform a FIT on the plexxi controller             |\n",
      "| hpecfm.post_vlan                 | hpecfm        | Add a vlan or group of vlans to the HPECFM         |\n",
      "|                                  |               | controller                                         |\n",
      "| hpecfm.sendsnow                  | hpecfm        | A workflow for sending plexxi switches to          |\n",
      "|                                  |               | servicenow.                                        |\n",
      "| hpeoneview.format_vlans          | hpeoneview    | process dictionary into actionable items           |\n",
      "| hpeoneview.get_alerts            | hpeoneview    | Get an array of alerts from the oneview appliance  |\n",
      "| hpeoneview.get_networks          | hpeoneview    | Get an array of networks from the oneview          |\n",
      "|                                  |               | appliance                                          |\n",
      "| hpeoneview.getvlansov            | hpeoneview    | A workflow for getting vlans from oneview.         |\n",
      "| hpeoneview.sendsnow              | hpeoneview    | A workflow for sending oneview alerts to           |\n",
      "|                                  |               | servicenow.                                        |\n",
      "| linux.check_loadavg              | linux         | Check CPU Load Average on a Host                   |\n",
      "| linux.check_processes            | linux         | Check Interesting Processes                        |\n",
      "| linux.cp                         | linux         | Copy file(s)                                       |\n",
      "| linux.diag_loadavg               | linux         | Diagnostic workflow for high load alert            |\n",
      "| linux.dig                        | linux         | Dig action                                         |\n",
      "| linux.file_touch                 | linux         | Touches a file                                     |\n",
      "| linux.lsof                       | linux         | Run lsof                                           |\n",
      "| linux.lsof_pids                  | linux         | Run lsof for a group of PIDs                       |\n",
      "| linux.mv                         | linux         | Move file(s)                                       |\n",
      "| linux.netstat                    | linux         | Run netstat                                        |\n",
      "| linux.netstat_grep               | linux         | Grep netstat results                               |\n",
      "| linux.pkill                      | linux         | Kill processes using pkill                         |\n",
      "| linux.rm                         | linux         | Remove file(s)                                     |\n",
      "| linux.rsync                      | linux         | Copy file(s) from one place to another w/ rsync    |\n",
      "| linux.scp                        | linux         | Secure copy file(s)                                |\n",
      "| linux.service                    | linux         | Stops, Starts, or Restarts a service               |\n",
      "| linux.traceroute                 | linux         | Traceroute a Host                                  |\n",
      "| linux.vmstat                     | linux         | Run vmstat                                         |\n",
      "| linux.wait_for_ssh               | linux         | Action which waits for a SSH server to become      |\n",
      "|                                  |               | accessible. By default, if no credentials are      |\n",
      "|                                  |               | provided, this action will try to authenticate     |\n",
      "|                                  |               | using the system user username and key file.       |\n",
      "| orange.format_tweet              | orange        | process dictionary into actionable items           |\n",
      "| orange.process_trump_tweet       | orange        | A workflow for processing a tweet with a something |\n",
      "|                                  |               | about a witch hunt                                 |\n",
      "| packs.delete                     | packs         | Deletes the pack from local content repository.    |\n",
      "| packs.download                   | packs         | Downloads packs and places it in the local content |\n",
      "|                                  |               | repository.                                        |\n",
      "| packs.get                        | packs         | Get information about installed pack.              |\n",
      "| packs.get_config                 | packs         | Returns config variables                           |\n",
      "| packs.install                    | packs         | Installs or upgrades a pack into local content     |\n",
      "|                                  |               | repository, either by git URL or a short name      |\n",
      "|                                  |               | matching an index entry. Will download pack, load  |\n",
      "|                                  |               | the actions, sensors and rules from the pack. Note |\n",
      "|                                  |               | that install requires reboot of some st2 services. |\n",
      "| packs.load                       | packs         | Action that reloads all st2 content.               |\n",
      "| packs.restart_component          | packs         | Action that restarts st2 service.                  |\n",
      "| packs.search                     | packs         | Search the index for a pack with any attribute     |\n",
      "|                                  |               | matching the query.                                |\n",
      "| packs.setup_virtualenv           | packs         | Set up virtual environment for the provided packs  |\n",
      "| packs.show                       | packs         | Get detailed information about pack from the       |\n",
      "|                                  |               | remote StackStorm exchange index.                  |\n",
      "| packs.uninstall                  | packs         | Uninstalls packs from local content repository.    |\n",
      "|                                  |               | Removes pack and content from st2. Note that       |\n",
      "|                                  |               | uninstall require reboot of some st2 services.     |\n",
      "| packs.unload                     | packs         | Unregisters all content from a pack.               |\n",
      "| packs.update_virtualenv          | packs         | Update / reinstall Python dependencies listed in   |\n",
      "|                                  |               | requirements.txt inside the pack virtual           |\n",
      "|                                  |               | environment                                        |\n",
      "| packs.virtualenv_prerun          | packs         | Transformation step to conver packs_status to list |\n",
      "|                                  |               | of packs.                                          |\n",
      "| st2.actions.list                 | st2           | Retrieve a list of available StackStorm actions.   |\n",
      "| st2.call_home                    | st2           | Sends anonymous data install data to a StackStorm  |\n",
      "|                                  |               | write-only S3 dropbox                              |\n",
      "| st2.check_permissions_anon_data  | st2           | Check if sending anonymous data is allowed.        |\n",
      "| st2.executions.create            | st2           | Create an action execution.                        |\n",
      "| st2.executions.get               | st2           | Retrieve details of a single execution.            |\n",
      "| st2.executions.get_root          | st2           | Traverse to the root execution of given ID and     |\n",
      "|                                  |               | retrieve its details.                              |\n",
      "| st2.executions.list              | st2           | Retrieve a list of executions.                     |\n",
      "| st2.executions.re_run            | st2           | Re-run an action execution.                        |\n",
      "| st2.inquiry.respond              | st2           | Respond to an inquiry                              |\n",
      "| st2.kv.delete                    | st2           | Delete value from datastore                        |\n",
      "| st2.kv.get                       | st2           | Get value from datastore                           |\n",
      "| st2.kv.get_object                | st2           | Deserialize and retrieve JSON serialized object    |\n",
      "|                                  |               | from a datastore                                   |\n",
      "| st2.kv.grep                      | st2           | Grep for keys in datastore                         |\n",
      "| st2.kv.grep_object               | st2           | Grep for keys in datastore and deserialize JSON    |\n",
      "|                                  |               | serialized values. This will perform JSON          |\n",
      "|                                  |               | serialization on all values that match the query.  |\n",
      "| st2.kv.set                       | st2           | Set value in datastore                             |\n",
      "| st2.kv.set_object                | st2           | Serialize and store object in a datastore          |\n",
      "| st2.rules.list                   | st2           | Retrieve a list of available StackStorm rules      |\n",
      "| st2.sensors.list                 | st2           | Retrieve a list of available StackStorm sensors.   |\n",
      "| st2.upload_to_s3                 | st2           | Sends collected data to write-only StackStorm S3   |\n",
      "|                                  |               | bucket                                             |\n",
      "| stackstormdwr.get-hpecfm-alarms  | stackstormdwr | A workflow for getting hpecfm alarms into a mongo  |\n",
      "|                                  |               | database.                                          |\n",
      "| stackstormdwr.get-hpeov-alarms   | stackstormdwr | A workflow for getting hpe OneView alarms into a   |\n",
      "|                                  |               | mongo database.                                    |\n",
      "| stackstormdwr.load-hpecfm-alarms | stackstormdwr | build mongo db of real time alarms on the cfm      |\n",
      "| stackstormdwr.load-hpeov-alarms  | stackstormdwr | build mongo db of real time alarms on OneView      |\n",
      "| tektalk.nasa_apod                | tektalk       | Queries NASA's APOD (Astronomy Picture Of the Day) |\n",
      "|                                  |               | API to get the link to the picture of the day.     |\n",
      "| tutorial.nasa_apod               | tutorial      | Queries NASA's APOD (Astronomy Picture Of the Day) |\n",
      "|                                  |               | API to get the link to the picture of the day.     |\n",
      "| twitter.direct_message           | twitter       | Direct message a user.                             |\n",
      "| twitter.follow                   | twitter       | Follow a user.                                     |\n",
      "| twitter.update_status            | twitter       | Update your status (post a new tweet).             |\n",
      "| urbandict.get_definitions        | urbandict     | Retrieve definitions from urbandict for the        |\n",
      "|                                  |               | provided term.                                     |\n",
      "+----------------------------------+---------------+----------------------------------------------------+\n"
     ]
    }
   ],
   "source": [
    "%%bash\n",
    "st2 action list"
   ]
  },
  {
   "cell_type": "markdown",
   "metadata": {},
   "source": [
    "Thats quite a few packs and actions. We can narrow down our search using the **-p** flag and specifying the pack we are interested in."
   ]
  },
  {
   "cell_type": "code",
   "execution_count": 21,
   "metadata": {
    "collapsed": true
   },
   "outputs": [
    {
     "name": "stdout",
     "output_type": "stream",
     "text": [
      "+---------------------+------+----------------------------------------------------+\n",
      "| ref                 | pack | description                                        |\n",
      "+---------------------+------+----------------------------------------------------+\n",
      "| core.announcement   | core | Action that broadcasts the announcement to all     |\n",
      "|                     |      | stream consumers.                                  |\n",
      "| core.ask            | core | Action for initiating an Inquiry (usually in a     |\n",
      "|                     |      | workflow)                                          |\n",
      "| core.echo           | core | Action that executes the Linux echo command on the |\n",
      "|                     |      | localhost.                                         |\n",
      "| core.http           | core | Action that performs an http request.              |\n",
      "| core.inject_trigger | core | Action which injects a new trigger in the system.  |\n",
      "| core.local          | core | Action that executes an arbitrary Linux command on |\n",
      "|                     |      | the localhost.                                     |\n",
      "| core.local_sudo     | core | Action that executes an arbitrary Linux command on |\n",
      "|                     |      | the localhost.                                     |\n",
      "| core.noop           | core | Action that does nothing                           |\n",
      "| core.pause          | core | Action to pause current thread of workflow/sub-    |\n",
      "|                     |      | workflow.                                          |\n",
      "| core.remote         | core | Action to execute arbitrary linux command          |\n",
      "|                     |      | remotely.                                          |\n",
      "| core.remote_sudo    | core | Action to execute arbitrary linux command          |\n",
      "|                     |      | remotely.                                          |\n",
      "| core.sendmail       | core | This sends an email                                |\n",
      "| core.uuid           | core | Generate a new UUID (default uuid4)                |\n",
      "| core.winrm_cmd      | core | Action to execute arbitrary Windows Command Prompt |\n",
      "|                     |      | command remotely via WinRM.                        |\n",
      "| core.winrm_ps_cmd   | core | Action to execute arbitrary Windows PowerShell     |\n",
      "|                     |      | command remotely via WinRM.                        |\n",
      "+---------------------+------+----------------------------------------------------+\n"
     ]
    }
   ],
   "source": [
    "%%bash\n",
    "st2 action list -p core"
   ]
  },
  {
   "cell_type": "markdown",
   "metadata": {},
   "source": [
    "Additionally, you can look at sensors, rules, and triggers using the same syntax. Results will vary depending on what is installed on the st2 server."
   ]
  },
  {
   "cell_type": "code",
   "execution_count": 6,
   "metadata": {
    "collapsed": true
   },
   "outputs": [
    {
     "name": "stdout",
     "output_type": "stream",
     "text": [
      "+-----------------------------+---------+---------------------------------------+---------+\n",
      "| ref                         | pack    | description                           | enabled |\n",
      "+-----------------------------+---------+---------------------------------------+---------+\n",
      "| linux.FileWatchSensor       | linux   | Sensor which monitors files for new   | True    |\n",
      "|                             |         | lines                                 |         |\n",
      "| twitter.TwitterSearchSensor | twitter | Sensor which monitors twitter         | True    |\n",
      "|                             |         | timeline for new tweets matching the  |         |\n",
      "|                             |         | specified criteria                    |         |\n",
      "| twitter.TwitterStreamSensor | twitter | Sensor which monitors twitter         | True    |\n",
      "|                             |         | timeline for new tweets matching the  |         |\n",
      "|                             |         | specified criteria                    |         |\n",
      "+-----------------------------+---------+---------------------------------------+---------+\n"
     ]
    }
   ],
   "source": [
    "%%bash\n",
    "st2 sensor list"
   ]
  },
  {
   "cell_type": "code",
   "execution_count": 8,
   "metadata": {
    "collapsed": true
   },
   "outputs": [
    {
     "name": "stdout",
     "output_type": "stream",
     "text": [
      "+---------------------------------+---------------+---------------------------------------+---------+\n",
      "| ref                             | pack          | description                           | enabled |\n",
      "+---------------------------------+---------------+---------------------------------------+---------+\n",
      "| chatops.notify                  | chatops       | Notification rule to send results of  | True    |\n",
      "|                                 |               | action executions to stream for       |         |\n",
      "|                                 |               | chatops                               |         |\n",
      "| orange.process_trump_tweet_rule | orange        | If tweet is about a witch hunt,       | True    |\n",
      "|                                 |               | process it.                           |         |\n",
      "| stackstormdwr.hpecfm-alarms     | stackstormdwr | Get HPECFM alarms and load mongo      | True    |\n",
      "|                                 |               | databases.                            |         |\n",
      "| stackstormdwr.hpeov-alarms      | stackstormdwr | Get HPE OneView alarms and load mongo | False   |\n",
      "|                                 |               | databases.                            |         |\n",
      "| tektalk.publish_timer           | tektalk       | Rule using an Interval Timer to       | True    |\n",
      "|                                 |               | publish APOD.                         |         |\n",
      "| twitter.relay_tweet_to_slack    | twitter       | Relay Tweet to the Slack channel.     | True    |\n",
      "+---------------------------------+---------------+---------------------------------------+---------+\n"
     ]
    }
   ],
   "source": [
    "%%bash\n",
    "st2 rule list"
   ]
  },
  {
   "cell_type": "code",
   "execution_count": 9,
   "metadata": {
    "collapsed": true
   },
   "outputs": [
    {
     "name": "stdout",
     "output_type": "stream",
     "text": [
      "+--------------------------------------+---------+----------------------------------------------------+\n",
      "| ref                                  | pack    | description                                        |\n",
      "+--------------------------------------+---------+----------------------------------------------------+\n",
      "| core.st2.CronTimer                   | core    | Triggers whenever current time matches the         |\n",
      "|                                      |         | specified time constaints like a UNIX cron         |\n",
      "|                                      |         | scheduler.                                         |\n",
      "| core.st2.DateTimer                   | core    | Triggers exactly once when the current time        |\n",
      "|                                      |         | matches the specified time. e.g. timezone:UTC      |\n",
      "|                                      |         | date:2014-12-31 23:59:59.                          |\n",
      "| core.st2.IntervalTimer               | core    | Triggers on specified intervals. e.g. every 30s,   |\n",
      "|                                      |         | 1week etc.                                         |\n",
      "| core.st2.action.file_writen          | core    | Trigger encapsulating action file being written on |\n",
      "|                                      |         | disk.                                              |\n",
      "| core.st2.generic.actiontrigger       | core    | Trigger encapsulating the completion of an action  |\n",
      "|                                      |         | execution.                                         |\n",
      "| core.st2.generic.inquiry             | core    | Trigger indicating a new \"inquiry\" has entered     |\n",
      "|                                      |         | \"pending\" status                                   |\n",
      "| core.st2.generic.notifytrigger       | core    | Notification trigger.                              |\n",
      "| core.st2.key_value_pair.create       | core    | Trigger encapsulating datastore item creation.     |\n",
      "| core.st2.key_value_pair.delete       | core    | Trigger encapsulating datastore item deletion.     |\n",
      "| core.st2.key_value_pair.update       | core    | Trigger encapsulating datastore set action.        |\n",
      "| core.st2.key_value_pair.value_change | core    | Trigger encapsulating a change of datastore item   |\n",
      "|                                      |         | value.                                             |\n",
      "| core.st2.sensor.process_exit         | core    | Trigger indicating sensor process is stopped.      |\n",
      "| core.st2.sensor.process_spawn        | core    | Trigger indicating sensor process is started up.   |\n",
      "| core.st2.webhook                     | core    | Trigger type for registering webhooks that can     |\n",
      "|                                      |         | consume arbitrary payload.                         |\n",
      "| linux.file_watch.line                | linux   | Trigger which indicates a new line has been        |\n",
      "|                                      |         | detected                                           |\n",
      "| twitter.matched_tweet                | twitter | Trigger which represents a matching tweet          |\n",
      "| twitter.stream_matched_tweet         | twitter | Trigger which represents a matching tweet          |\n",
      "+--------------------------------------+---------+----------------------------------------------------+\n"
     ]
    }
   ],
   "source": [
    "%%bash\n",
    "st2 trigger list"
   ]
  },
  {
   "cell_type": "markdown",
   "metadata": {},
   "source": [
    "You can also have st2 run commands either **locally or remotely**. As you noted from above, st2 has CORE actions that make this easy. This means any command you can run from the command line can be executed in st2, either from the local host or any remote host.\n",
    "You will see the results of the command returned in stdout (standard out) and the command itself was successful."
   ]
  },
  {
   "cell_type": "code",
   "execution_count": 11,
   "metadata": {
    "collapsed": true
   },
   "outputs": [
    {
     "name": "stdout",
     "output_type": "stream",
     "text": [
      ".\n",
      "\u001b[94mid\u001b[0m: 5efa2b3b5f627da0ad4206d8\n",
      "\u001b[94mstatus\u001b[0m: \u001b[92msucceeded\u001b[0m\n",
      "\u001b[94mparameters\u001b[0m: \n",
      "  cmd: date -R\n",
      "\u001b[94mresult\u001b[0m: \n",
      "  failed: false\n",
      "  return_code: 0\n",
      "  stderr: ''\n",
      "  stdout: Mon, 29 Jun 2020 10:56:11 -0700\n",
      "  succeeded: true\n"
     ]
    }
   ],
   "source": [
    "%%bash\n",
    "st2 run core.local -- date -R"
   ]
  },
  {
   "cell_type": "markdown",
   "metadata": {},
   "source": [
    "Notice the 'id' number? Everytime st2 executes a task, it tracks the outcome in the executions list. You can view that list by running the below command."
   ]
  },
  {
   "cell_type": "code",
   "execution_count": 12,
   "metadata": {
    "collapsed": true
   },
   "outputs": [
    {
     "name": "stdout",
     "output_type": "stream",
     "text": [
      "+--------------------------+----------------------+--------------+-------------------------+----------------------+------------------+\n",
      "| id                       | action.ref           | context.user | status                  | start_timestamp      | end_timestamp    |\n",
      "+--------------------------+----------------------+--------------+-------------------------+----------------------+------------------+\n",
      "| 5ef9fe655f627d03cc6cae4b | stackstormdwr.get-   | stanley      | \u001b[91mfailed\u001b[0m (69s elapsed)    | Mon, 29 Jun 2020     | Mon, 29 Jun 2020 |\n",
      "|                          | hpecfm-alarms        |              |                         | 14:44:53 UTC         | 14:46:02 UTC     |\n",
      "| 5ef9ff915f627d03cc6caeae | stackstormdwr.get-   | stanley      | \u001b[91mfailed\u001b[0m (68s elapsed)    | Mon, 29 Jun 2020     | Mon, 29 Jun 2020 |\n",
      "|                          | hpecfm-alarms        |              |                         | 14:49:53 UTC         | 14:51:01 UTC     |\n",
      "| 5efa00be5f627d03cc6caefd | stackstormdwr.get-   | stanley      | \u001b[91mfailed\u001b[0m (69s elapsed)    | Mon, 29 Jun 2020     | Mon, 29 Jun 2020 |\n",
      "|                          | hpecfm-alarms        |              |                         | 14:54:53 UTC         | 14:56:02 UTC     |\n",
      "| 5efa01ea5f627d03cc6caf5c | stackstormdwr.get-   | stanley      | \u001b[91mfailed\u001b[0m (69s elapsed)    | Mon, 29 Jun 2020     | Mon, 29 Jun 2020 |\n",
      "|                          | hpecfm-alarms        |              |                         | 14:59:54 UTC         | 15:01:03 UTC     |\n",
      "| 5efa03165f627d03cc6cafb4 | orange.process_trump | stanley      | \u001b[92msucceeded\u001b[0m (13s elapsed) | Mon, 29 Jun 2020     | Mon, 29 Jun 2020 |\n",
      "|                          | _tweet               |              |                         | 15:04:53 UTC         | 15:05:06 UTC     |\n",
      "| 5efa03165f627d03cc6cafb6 | stackstormdwr.get-   | stanley      | \u001b[91mfailed\u001b[0m (69s elapsed)    | Mon, 29 Jun 2020     | Mon, 29 Jun 2020 |\n",
      "|                          | hpecfm-alarms        |              |                         | 15:04:54 UTC         | 15:06:03 UTC     |\n",
      "| 5efa04415f627d03cc6cafff | stackstormdwr.get-   | stanley      | \u001b[91mfailed\u001b[0m (69s elapsed)    | Mon, 29 Jun 2020     | Mon, 29 Jun 2020 |\n",
      "|                          | hpecfm-alarms        |              |                         | 15:09:53 UTC         | 15:11:02 UTC     |\n",
      "| 5efa056e5f627d03cc6cb04b | stackstormdwr.get-   | stanley      | \u001b[91mfailed\u001b[0m (68s elapsed)    | Mon, 29 Jun 2020     | Mon, 29 Jun 2020 |\n",
      "|                          | hpecfm-alarms        |              |                         | 15:14:53 UTC         | 15:16:01 UTC     |\n",
      "| 5efa06995f627d03cc6cb0b1 | stackstormdwr.get-   | stanley      | \u001b[91mfailed\u001b[0m (68s elapsed)    | Mon, 29 Jun 2020     | Mon, 29 Jun 2020 |\n",
      "|                          | hpecfm-alarms        |              |                         | 15:19:53 UTC         | 15:21:01 UTC     |\n",
      "| 5efa07c55f627d03cc6cb10a | stackstormdwr.get-   | stanley      | \u001b[91mfailed\u001b[0m (68s elapsed)    | Mon, 29 Jun 2020     | Mon, 29 Jun 2020 |\n",
      "|                          | hpecfm-alarms        |              |                         | 15:24:53 UTC         | 15:26:01 UTC     |\n",
      "| 5efa08f15f627d03cc6cb180 | stackstormdwr.get-   | stanley      | \u001b[91mfailed\u001b[0m (68s elapsed)    | Mon, 29 Jun 2020     | Mon, 29 Jun 2020 |\n",
      "|                          | hpecfm-alarms        |              |                         | 15:29:53 UTC         | 15:31:01 UTC     |\n",
      "| 5efa0a1d5f627d03cc6cb1fa | stackstormdwr.get-   | stanley      | \u001b[91mfailed\u001b[0m (67s elapsed)    | Mon, 29 Jun 2020     | Mon, 29 Jun 2020 |\n",
      "|                          | hpecfm-alarms        |              |                         | 15:34:53 UTC         | 15:36:00 UTC     |\n",
      "| 5efa0b495f627d03cc6cb24f | stackstormdwr.get-   | stanley      | \u001b[91mfailed\u001b[0m (68s elapsed)    | Mon, 29 Jun 2020     | Mon, 29 Jun 2020 |\n",
      "|                          | hpecfm-alarms        |              |                         | 15:39:53 UTC         | 15:41:01 UTC     |\n",
      "| 5efa0c755f627d03cc6cb2a9 | stackstormdwr.get-   | stanley      | \u001b[91mfailed\u001b[0m (68s elapsed)    | Mon, 29 Jun 2020     | Mon, 29 Jun 2020 |\n",
      "|                          | hpecfm-alarms        |              |                         | 15:44:53 UTC         | 15:46:01 UTC     |\n",
      "| 5efa0da15f627d03cc6cb30f | stackstormdwr.get-   | stanley      | \u001b[91mfailed\u001b[0m (67s elapsed)    | Mon, 29 Jun 2020     | Mon, 29 Jun 2020 |\n",
      "|                          | hpecfm-alarms        |              |                         | 15:49:53 UTC         | 15:51:00 UTC     |\n",
      "| 5efa0ecd5f627d03cc6cb366 | stackstormdwr.get-   | stanley      | \u001b[91mfailed\u001b[0m (68s elapsed)    | Mon, 29 Jun 2020     | Mon, 29 Jun 2020 |\n",
      "|                          | hpecfm-alarms        |              |                         | 15:54:53 UTC         | 15:56:01 UTC     |\n",
      "| 5efa0efd5f627da0ad4206c6 | tektalk.nasa_apod    | st2admin     | \u001b[92msucceeded\u001b[0m (4s elapsed)  | Mon, 29 Jun 2020     | Mon, 29 Jun 2020 |\n",
      "|                          |                      |              |                         | 15:55:41 UTC         | 15:55:45 UTC     |\n",
      "| 5efa0fd05f627da0ad4206c9 | tektalk.nasa_apod    | st2admin     | \u001b[92msucceeded\u001b[0m (4s elapsed)  | Mon, 29 Jun 2020     | Mon, 29 Jun 2020 |\n",
      "|                          |                      |              |                         | 15:59:12 UTC         | 15:59:16 UTC     |\n",
      "| 5efa0ff95f627d03cc6cb3ca | stackstormdwr.get-   | stanley      | \u001b[91mfailed\u001b[0m (68s elapsed)    | Mon, 29 Jun 2020     | Mon, 29 Jun 2020 |\n",
      "|                          | hpecfm-alarms        |              |                         | 15:59:53 UTC         | 16:01:01 UTC     |\n",
      "| 5efa11255f627d03cc6cb40b | orange.process_trump | stanley      | \u001b[92msucceeded\u001b[0m (7s elapsed)  | Mon, 29 Jun 2020     | Mon, 29 Jun 2020 |\n",
      "|                          | _tweet               |              |                         | 16:04:53 UTC         | 16:05:00 UTC     |\n",
      "| 5efa11265f627d03cc6cb411 | stackstormdwr.get-   | stanley      | \u001b[91mfailed\u001b[0m (67s elapsed)    | Mon, 29 Jun 2020     | Mon, 29 Jun 2020 |\n",
      "|                          | hpecfm-alarms        |              |                         | 16:04:54 UTC         | 16:06:01 UTC     |\n",
      "| 5efa12525f627d03cc6cb465 | stackstormdwr.get-   | stanley      | \u001b[91mfailed\u001b[0m (69s elapsed)    | Mon, 29 Jun 2020     | Mon, 29 Jun 2020 |\n",
      "|                          | hpecfm-alarms        |              |                         | 16:09:53 UTC         | 16:11:02 UTC     |\n",
      "| 5efa137d5f627d03cc6cb4cf | stackstormdwr.get-   | stanley      | \u001b[91mfailed\u001b[0m (67s elapsed)    | Mon, 29 Jun 2020     | Mon, 29 Jun 2020 |\n",
      "|                          | hpecfm-alarms        |              |                         | 16:14:53 UTC         | 16:16:00 UTC     |\n",
      "| 5efa14aa5f627d03cc6cb535 | stackstormdwr.get-   | stanley      | \u001b[91mfailed\u001b[0m (68s elapsed)    | Mon, 29 Jun 2020     | Mon, 29 Jun 2020 |\n",
      "|                          | hpecfm-alarms        |              |                         | 16:19:53 UTC         | 16:21:01 UTC     |\n",
      "| 5efa15d55f627d03cc6cb587 | stackstormdwr.get-   | stanley      | \u001b[91mfailed\u001b[0m (68s elapsed)    | Mon, 29 Jun 2020     | Mon, 29 Jun 2020 |\n",
      "|                          | hpecfm-alarms        |              |                         | 16:24:53 UTC         | 16:26:01 UTC     |\n",
      "| 5efa17015f627d03cc6cb5e4 | stackstormdwr.get-   | stanley      | \u001b[91mfailed\u001b[0m (68s elapsed)    | Mon, 29 Jun 2020     | Mon, 29 Jun 2020 |\n",
      "|                          | hpecfm-alarms        |              |                         | 16:29:53 UTC         | 16:31:01 UTC     |\n",
      "| 5efa182d5f627d03cc6cb643 | stackstormdwr.get-   | stanley      | \u001b[91mfailed\u001b[0m (68s elapsed)    | Mon, 29 Jun 2020     | Mon, 29 Jun 2020 |\n",
      "|                          | hpecfm-alarms        |              |                         | 16:34:53 UTC         | 16:36:01 UTC     |\n",
      "| 5efa19595f627d03cc6cb6b3 | stackstormdwr.get-   | stanley      | \u001b[91mfailed\u001b[0m (68s elapsed)    | Mon, 29 Jun 2020     | Mon, 29 Jun 2020 |\n",
      "|                          | hpecfm-alarms        |              |                         | 16:39:53 UTC         | 16:41:01 UTC     |\n",
      "| 5efa1a855f627d03cc6cb711 | stackstormdwr.get-   | stanley      | \u001b[91mfailed\u001b[0m (68s elapsed)    | Mon, 29 Jun 2020     | Mon, 29 Jun 2020 |\n",
      "|                          | hpecfm-alarms        |              |                         | 16:44:53 UTC         | 16:46:01 UTC     |\n",
      "| 5efa1bb25f627d03cc6cb76e | stackstormdwr.get-   | stanley      | \u001b[91mfailed\u001b[0m (72s elapsed)    | Mon, 29 Jun 2020     | Mon, 29 Jun 2020 |\n",
      "|                          | hpecfm-alarms        |              |                         | 16:49:54 UTC         | 16:51:06 UTC     |\n",
      "| 5efa1c895f627da0ad4206cc | core.local           | st2admin     | \u001b[92msucceeded\u001b[0m (0s elapsed)  | Mon, 29 Jun 2020     | Mon, 29 Jun 2020 |\n",
      "|                          |                      |              |                         | 16:53:29 UTC         | 16:53:29 UTC     |\n",
      "| 5efa1c945f627da0ad4206cf | core.http            | st2admin     | \u001b[92msucceeded\u001b[0m (1s elapsed)  | Mon, 29 Jun 2020     | Mon, 29 Jun 2020 |\n",
      "|                          |                      |              |                         | 16:53:40 UTC         | 16:53:41 UTC     |\n",
      "| 5efa1cd55f627da0ad4206d2 | core.echo            | st2admin     | \u001b[92msucceeded\u001b[0m (1s elapsed)  | Mon, 29 Jun 2020     | Mon, 29 Jun 2020 |\n",
      "|                          |                      |              |                         | 16:54:45 UTC         | 16:54:46 UTC     |\n",
      "| 5efa1cdd5f627d03cc6cb7b9 | stackstormdwr.get-   | stanley      | \u001b[91mfailed\u001b[0m (68s elapsed)    | Mon, 29 Jun 2020     | Mon, 29 Jun 2020 |\n",
      "|                          | hpecfm-alarms        |              |                         | 16:54:53 UTC         | 16:56:01 UTC     |\n",
      "| 5efa1e095f627d03cc6cb832 | stackstormdwr.get-   | stanley      | \u001b[91mfailed\u001b[0m (68s elapsed)    | Mon, 29 Jun 2020     | Mon, 29 Jun 2020 |\n",
      "|                          | hpecfm-alarms        |              |                         | 16:59:53 UTC         | 17:01:01 UTC     |\n",
      "| 5efa1f365f627d03cc6cb8a2 | orange.process_trump | stanley      | \u001b[92msucceeded\u001b[0m (9s elapsed)  | Mon, 29 Jun 2020     | Mon, 29 Jun 2020 |\n",
      "|                          | _tweet               |              |                         | 17:04:53 UTC         | 17:05:02 UTC     |\n",
      "| 5efa1f365f627d03cc6cb8a3 | stackstormdwr.get-   | stanley      | \u001b[91mfailed\u001b[0m (68s elapsed)    | Mon, 29 Jun 2020     | Mon, 29 Jun 2020 |\n",
      "|                          | hpecfm-alarms        |              |                         | 17:04:54 UTC         | 17:06:02 UTC     |\n",
      "| 5efa20625f627d03cc6cb8fe | stackstormdwr.get-   | stanley      | \u001b[91mfailed\u001b[0m (69s elapsed)    | Mon, 29 Jun 2020     | Mon, 29 Jun 2020 |\n",
      "|                          | hpecfm-alarms        |              |                         | 17:09:53 UTC         | 17:11:02 UTC     |\n",
      "| 5efa218e5f627d03cc6cb941 | stackstormdwr.get-   | stanley      | \u001b[91mfailed\u001b[0m (69s elapsed)    | Mon, 29 Jun 2020     | Mon, 29 Jun 2020 |\n",
      "|                          | hpecfm-alarms        |              |                         | 17:14:53 UTC         | 17:16:02 UTC     |\n",
      "| 5efa22ba5f627d03cc6cb987 | stackstormdwr.get-   | stanley      | \u001b[91mfailed\u001b[0m (70s elapsed)    | Mon, 29 Jun 2020     | Mon, 29 Jun 2020 |\n",
      "|                          | hpecfm-alarms        |              |                         | 17:19:53 UTC         | 17:21:03 UTC     |\n",
      "| 5efa23e55f627d03cc6cb9f1 | stackstormdwr.get-   | stanley      | \u001b[91mfailed\u001b[0m (69s elapsed)    | Mon, 29 Jun 2020     | Mon, 29 Jun 2020 |\n",
      "|                          | hpecfm-alarms        |              |                         | 17:24:53 UTC         | 17:26:02 UTC     |\n",
      "| 5efa25115f627d03cc6cba45 | stackstormdwr.get-   | stanley      | \u001b[91mfailed\u001b[0m (69s elapsed)    | Mon, 29 Jun 2020     | Mon, 29 Jun 2020 |\n",
      "|                          | hpecfm-alarms        |              |                         | 17:29:53 UTC         | 17:31:02 UTC     |\n",
      "| 5efa263e5f627d03cc6cba9b | stackstormdwr.get-   | stanley      | \u001b[91mfailed\u001b[0m (69s elapsed)    | Mon, 29 Jun 2020     | Mon, 29 Jun 2020 |\n",
      "|                          | hpecfm-alarms        |              |                         | 17:34:53 UTC         | 17:36:02 UTC     |\n",
      "| 5efa276a5f627d03cc6cbae7 | stackstormdwr.get-   | stanley      | \u001b[91mfailed\u001b[0m (69s elapsed)    | Mon, 29 Jun 2020     | Mon, 29 Jun 2020 |\n",
      "|                          | hpecfm-alarms        |              |                         | 17:39:53 UTC         | 17:41:02 UTC     |\n",
      "| 5efa28955f627d03cc6cbb57 | stackstormdwr.get-   | stanley      | \u001b[91mfailed\u001b[0m (68s elapsed)    | Mon, 29 Jun 2020     | Mon, 29 Jun 2020 |\n",
      "|                          | hpecfm-alarms        |              |                         | 17:44:53 UTC         | 17:46:01 UTC     |\n",
      "| 5efa29c25f627d03cc6cbbbe | stackstormdwr.get-   | stanley      | \u001b[91mfailed\u001b[0m (68s elapsed)    | Mon, 29 Jun 2020     | Mon, 29 Jun 2020 |\n",
      "|                          | hpecfm-alarms        |              |                         | 17:49:53 UTC         | 17:51:01 UTC     |\n",
      "| 5efa2ab75f627da0ad4206d5 | core.local           | st2admin     | \u001b[92msucceeded\u001b[0m (1s elapsed)  | Mon, 29 Jun 2020     | Mon, 29 Jun 2020 |\n",
      "|                          |                      |              |                         | 17:53:59 UTC         | 17:54:00 UTC     |\n",
      "| 5efa2aed5f627d03cc6cbc0e | stackstormdwr.get-   | stanley      | \u001b[91mfailed\u001b[0m (68s elapsed)    | Mon, 29 Jun 2020     | Mon, 29 Jun 2020 |\n",
      "|                          | hpecfm-alarms        |              |                         | 17:54:53 UTC         | 17:56:01 UTC     |\n",
      "| 5efa2b3b5f627da0ad4206d8 | core.local           | st2admin     | \u001b[92msucceeded\u001b[0m (0s elapsed)  | Mon, 29 Jun 2020     | Mon, 29 Jun 2020 |\n",
      "|                          |                      |              |                         | 17:56:11 UTC         | 17:56:11 UTC     |\n",
      "| 5efa2c195f627d03cc6cbc68 | stackstormdwr.get-   | stanley      | \u001b[93mrunning\u001b[0m (24s elapsed)   | Mon, 29 Jun 2020     |                  |\n",
      "|                          | hpecfm-alarms        |              |                         | 17:59:53 UTC         |                  |\n",
      "+--------------------------+----------------------+--------------+-------------------------+----------------------+------------------+\n"
     ]
    },
    {
     "name": "stderr",
     "output_type": "stream",
     "text": [
      "+------------------------------------------------------------------------------------------------------------------------------------+\n",
      "| Note: Only first 50 action executions are displayed. Use -n/--last flag for more results.                                          |\n",
      "+------------------------------------------------------------------------------------------------------------------------------------+\n"
     ]
    }
   ],
   "source": [
    "%%bash\n",
    "st2 execution list"
   ]
  },
  {
   "cell_type": "markdown",
   "metadata": {},
   "source": [
    "### TRY ON YOUR OWN: \n",
    "Every one of the 'id's' will have all the the errors, stdin, stdout, parameters and return code. This is super handy when trying to debug any actions you are creating. You would use the **st2 execution get (id)** command. Since these numbers are randomly generated you will have to do this command on your own. Just copy and paste any **id** at the end of the st2 execution get command."
   ]
  },
  {
   "cell_type": "code",
   "execution_count": null,
   "metadata": {},
   "outputs": [],
   "source": [
    "%%bash \n",
    "st2 execution get (paste id here)"
   ]
  },
  {
   "cell_type": "markdown",
   "metadata": {},
   "source": [
    "## NOTE:\n",
    "When manually running an action from the st2 command line, you need to include the pack name where the action lives and the name of the action. **st2 run pack.action**. Actions may or may not require extra parameters to function. To learn what any action requires we need to look at the internals of the action by using the **get** command. Let's look at the core pack and what is required for the echo action. Not all parameters are required, look carefully. If the parameter has a default setting, you don't have to include it."
   ]
  },
  {
   "cell_type": "code",
   "execution_count": 36,
   "metadata": {
    "collapsed": true
   },
   "outputs": [
    {
     "name": "stdout",
     "output_type": "stream",
     "text": [
      "+---------------+--------------------------------------------------------------+\n",
      "| Property      | Value                                                        |\n",
      "+---------------+--------------------------------------------------------------+\n",
      "| id            | 5d94f2995f627d6afd533df3                                     |\n",
      "| uid           | action:core:echo                                             |\n",
      "| ref           | core.echo                                                    |\n",
      "| pack          | core                                                         |\n",
      "| name          | echo                                                         |\n",
      "| description   | Action that executes the Linux echo command on the           |\n",
      "|               | localhost.                                                   |\n",
      "| enabled       | True                                                         |\n",
      "| entry_point   |                                                              |\n",
      "| runner_type   | local-shell-cmd                                              |\n",
      "| parameters    | {                                                            |\n",
      "|               |     \"message\": {                                             |\n",
      "|               |         \"description\": \"The message that the command will    |\n",
      "|               | echo.\",                                                      |\n",
      "|               |         \"type\": \"string\",                                    |\n",
      "|               |         \"required\": true                                     |\n",
      "|               |     },                                                       |\n",
      "|               |     \"cmd\": {                                                 |\n",
      "|               |         \"description\": \"Arbitrary Linux command to be        |\n",
      "|               | executed on the local host.\",                                |\n",
      "|               |         \"required\": true,                                    |\n",
      "|               |         \"type\": \"string\",                                    |\n",
      "|               |         \"default\": \"echo \"{{message}}\"\",                     |\n",
      "|               |         \"immutable\": true                                    |\n",
      "|               |     },                                                       |\n",
      "|               |     \"kwarg_op\": {                                            |\n",
      "|               |         \"immutable\": true                                    |\n",
      "|               |     },                                                       |\n",
      "|               |     \"sudo\": {                                                |\n",
      "|               |         \"default\": false,                                    |\n",
      "|               |         \"immutable\": true                                    |\n",
      "|               |     },                                                       |\n",
      "|               |     \"sudo_password\": {                                       |\n",
      "|               |         \"immutable\": true                                    |\n",
      "|               |     }                                                        |\n",
      "|               | }                                                            |\n",
      "| metadata_file | actions/echo.yaml                                            |\n",
      "| notify        |                                                              |\n",
      "| output_schema |                                                              |\n",
      "| tags          |                                                              |\n",
      "+---------------+--------------------------------------------------------------+\n"
     ]
    }
   ],
   "source": [
    "%%bash\n",
    "st2 action get core.echo"
   ]
  },
  {
   "cell_type": "markdown",
   "metadata": {},
   "source": [
    "Looks like we need to add the parameter message to our call for action. So we add message='our string'."
   ]
  },
  {
   "cell_type": "code",
   "execution_count": null,
   "metadata": {},
   "outputs": [],
   "source": [
    "%%bash\n",
    "st2 run core.echo message='Lorem ipsum, blah, blah, blah'"
   ]
  },
  {
   "cell_type": "markdown",
   "metadata": {},
   "source": [
    "OK, now let's look at how we will run something a little more useful.Let's list all the files in the directory."
   ]
  },
  {
   "cell_type": "code",
   "execution_count": null,
   "metadata": {},
   "outputs": [],
   "source": [
    "%%bash\n",
    "st2 run core.local cmd='ls'"
   ]
  },
  {
   "cell_type": "markdown",
   "metadata": {},
   "source": [
    "Maybe you want to scrape some information from a web server, we can use this!"
   ]
  },
  {
   "cell_type": "code",
   "execution_count": null,
   "metadata": {},
   "outputs": [],
   "source": [
    "%%bash\n",
    "st2 run core.http url=\"http://www.techworldwookie.com\""
   ]
  },
  {
   "cell_type": "markdown",
   "metadata": {},
   "source": [
    "## Custom Actions"
   ]
  },
  {
   "cell_type": "markdown",
   "metadata": {},
   "source": [
    "Let's run a custom action. nasa_apod is an action that will get the NASA picture of the day for NASA's server and return some information about the picture and the URL. This action is part of a stackstorm integration pack called tektalk. Let's see if it is installed."
   ]
  },
  {
   "cell_type": "code",
   "execution_count": null,
   "metadata": {},
   "outputs": [],
   "source": [
    "%%bash\n",
    "st2 pack list"
   ]
  },
  {
   "cell_type": "markdown",
   "metadata": {},
   "source": [
    "Yes, we see the pack **tektalk** listed, now let's see what actions are made available to us."
   ]
  },
  {
   "cell_type": "code",
   "execution_count": null,
   "metadata": {},
   "outputs": [],
   "source": [
    "%%bash\n",
    "st2 action list -p tektalk"
   ]
  },
  {
   "cell_type": "markdown",
   "metadata": {},
   "source": [
    "Great, now we have to see what paramerters are needed for the action to run."
   ]
  },
  {
   "cell_type": "code",
   "execution_count": null,
   "metadata": {},
   "outputs": [],
   "source": [
    "%%bash\n",
    "st2 action get tektalk.nasa_apod"
   ]
  },
  {
   "cell_type": "markdown",
   "metadata": {},
   "source": [
    "**API_KEY** and **HD** are defaulted. The only parameter we need to supply is the date for the picture we want. It will need to be in a **yyyy-mm-dd** format."
   ]
  },
  {
   "cell_type": "markdown",
   "metadata": {},
   "source": [
    "### Action files\n",
    "Actions are made up of two different files. An introductory YAML file and a script of some kind. Action files live in the **/actions** directory. Let's take a look."
   ]
  },
  {
   "cell_type": "code",
   "execution_count": 32,
   "metadata": {
    "collapsed": true
   },
   "outputs": [
    {
     "name": "stdout",
     "output_type": "stream",
     "text": [
      "total 28\n",
      "674833 drwxrwxr-x 4 root st2packs 4096 Jun 29 13:13 .\n",
      "670610 drwxrwxr-x 8 root st2packs 4096 Jun 29 12:54 ..\n",
      "674834 -rwxrwxr-x 1 root st2packs    0 Jun 29 12:54 .gitkeep\n",
      "674835 -rwxrwxr-x 1 root st2packs  662 Jun 29 12:54 nasa_apod.py\n",
      "674837 -rwxrwxr-x 1 root st2packs  181 Jun 29 12:54 nasa_apod_workflow.yaml\n",
      "674836 -rwxrwxr-x 1 root st2packs  527 Jun 29 12:54 nasa_apod.yaml\n",
      "670609 drwxrwxr-x 2 root st2packs 4096 Jun 29 13:13 __pycache__\n",
      "674838 drwxrwxr-x 2 root st2packs 4096 Jun 29 12:54 workflows\n"
     ]
    }
   ],
   "source": [
    "%%bash\n",
    "ls -lia /opt/stackstorm/packs/tektalk/actions "
   ]
  },
  {
   "cell_type": "markdown",
   "metadata": {},
   "source": [
    "Let's look at the introductory YAML file"
   ]
  },
  {
   "cell_type": "code",
   "execution_count": 33,
   "metadata": {
    "collapsed": true
   },
   "outputs": [
    {
     "name": "stdout",
     "output_type": "stream",
     "text": [
      "---\n",
      "name: nasa_apod\n",
      "pack: tektalk\n",
      "description: \"Queries NASA's APOD (Astronomy Picture Of the Day) API to get the link to the picture of the day.\"\n",
      "runner_type: \"python-script\"\n",
      "enabled: true\n",
      "entry_point: nasa_apod.py\n",
      "parameters:\n",
      "  api_key:\n",
      "    type: string\n",
      "    description: \"API key to use for api.nasa.gov.\"\n",
      "    default: \"DEMO_KEY\"\n",
      "  hd:\n",
      "    type: boolean\n",
      "    description: \"Retrieve the high resolution image.\"\n",
      "    default: false\n",
      "  date:\n",
      "    type: string\n",
      "    description: \"The date [YYYY-MM-DD] of the APOD image to retrieve.\"\n"
     ]
    }
   ],
   "source": [
    "%%bash\n",
    "cat /opt/stackstorm/packs/tektalk/actions/nasa_apod.yaml"
   ]
  },
  {
   "cell_type": "markdown",
   "metadata": {},
   "source": [
    "This is a **YAML** file so it will start with three dashes. We have the name of the action and the name of the pack it resides. The obilatory description and then the runner_type. There are **13 different types** of runners including WinRM Powershell. IN our example we will be using a python script, **nasa_apod.py**. The file then informs the python script that it will be receiveing three parameters. Let's look at the python script."
   ]
  },
  {
   "cell_type": "code",
   "execution_count": 35,
   "metadata": {
    "collapsed": true
   },
   "outputs": [
    {
     "name": "stdout",
     "output_type": "stream",
     "text": [
      "#!/usr/bin/env python\n",
      "#\n",
      "# Description:\n",
      "#   Queries NASA's APOD (Astronomy Picture Of the Day) API to get the link to the picture\n",
      "#   of the day.\n",
      "#\n",
      "import json\n",
      "import requests\n",
      "from st2common.runners.base_action import Action\n",
      "\n",
      "API_URL = \"https://api.nasa.gov/planetary/apod\"\n",
      "\n",
      "\n",
      "class Apod(Action):\n",
      "\n",
      "    def run(self, api_key, date, hd):\n",
      "        params = {'api_key': api_key,\n",
      "                  'hd': hd}\n",
      "        if date is not None:\n",
      "            params['date'] = date\n",
      "\n",
      "        response = requests.get(API_URL, params=params)\n",
      "        response.raise_for_status()\n",
      "        data = response.json()\n",
      "        if hd:\n",
      "            data['url'] = data['hdurl']\n",
      "        return data\n"
     ]
    }
   ],
   "source": [
    "%%bash\n",
    "cat /opt/stackstorm/packs/tektalk/actions/nasa_apod.py"
   ]
  },
  {
   "cell_type": "markdown",
   "metadata": {},
   "source": [
    "We pass the api_key, date and hd variable to the python script and use **requests** to get the response. The python script returns the variable **data**. Let's run the action like this!"
   ]
  },
  {
   "cell_type": "code",
   "execution_count": 31,
   "metadata": {
    "collapsed": true
   },
   "outputs": [
    {
     "name": "stdout",
     "output_type": "stream",
     "text": [
      ".\n",
      "\u001b[94mid\u001b[0m: 5efa4eeb5f627da0ad420727\n",
      "\u001b[94mstatus\u001b[0m: \u001b[92msucceeded\u001b[0m\n",
      "\u001b[94mparameters\u001b[0m: \n",
      "  date: '2018-07-04'\n",
      "\u001b[94mresult\u001b[0m: \n",
      "  exit_code: 0\n",
      "  result:\n",
      "    copyright: Michael Seeley\n",
      "    date: '2018-07-04'\n",
      "    explanation: If you saw the dawn's early light from Cape Canaveral Air Force Station last Friday, June 29, then you could have seen this rocket's red glare. The single 277-second long exposure, made from the roof of NASA's Vehicle Assembly building, shows a predawn Falcon 9 launch, the rocket streaking eastward into the sky about 45 minutes before sunrise. At high altitude, its stage separation plume is brightly lit by the Sun still below the eastern horizon. The Falcon 9 rocket's first stage had been launched before, lofting the Transiting Exoplanet Survey Satellite (TESS) into orbit on April 18, only 72 days earlier. For this launch of SpaceX Commercial Resupply Service mission 15 (CRS-15) it carried an also previously flown Dragon capsule. But no further reuse of this Falcon 9 was planned so no dramatic first stage landing followed the launch. The Dragon capsule arrived at the International Space Station on July 2.\n",
      "    hdurl: https://apod.nasa.gov/apod/image/1807/5D4_4276_crs15launch2048.jpg\n",
      "    media_type: image\n",
      "    service_version: v1\n",
      "    title: Dawn's Early Light, Rocket's Red Glare\n",
      "    url: https://apod.nasa.gov/apod/image/1807/5D4_4276_crs15launch1024.jpg\n",
      "  stderr: ''\n",
      "  stdout: ''\n"
     ]
    }
   ],
   "source": [
    "%%bash\n",
    "st2 run tektalk.nasa_apod date=2018-07-04"
   ]
  },
  {
   "cell_type": "markdown",
   "metadata": {},
   "source": [
    "### Hip Tip Of The Week!:\n",
    "It is very easy to take an existing shell script or python script and convert it to be used with stackstorm. You do not need to rewrite all of you automation scripts. "
   ]
  },
  {
   "cell_type": "markdown",
   "metadata": {},
   "source": [
    "## Workflows"
   ]
  },
  {
   "cell_type": "markdown",
   "metadata": {},
   "source": [
    "Actions by themselves are basically just more of the same. They are just scripts. Workflows allow us to string several actions together and feed the output of one action into another. Wrokflows, like actions require an intrductory YAML file and then another YAML file in the workflows directory. Workflows can call on any action from any st2 pack. The new workflow system for st2 is **Orquesta**, let look at our example workflow. First the introductory YAML."
   ]
  },
  {
   "cell_type": "code",
   "execution_count": 37,
   "metadata": {},
   "outputs": [
    {
     "name": "stdout",
     "output_type": "stream",
     "text": [
      "---\n",
      "name: nasa_apod_workflow\n",
      "pack: tektalk\n",
      "description: A workflow that runs a series of actions\n",
      "runner_type: orquesta\n",
      "entry_point: workflows/nasa_apod_workflow.yaml\n",
      "enabled: true\n",
      "\n"
     ]
    }
   ],
   "source": [
    "%%bash\n",
    "cat /opt/stackstorm/packs/tektalk/actions/nasa_apod_workflow.yaml"
   ]
  },
  {
   "cell_type": "markdown",
   "metadata": {},
   "source": [
    "The key takeaway is the runner_type is now Orquesta. Notice that the entry__point is another YAML with the exact same name located in the workflows directory. Let's look at that file."
   ]
  },
  {
   "cell_type": "code",
   "execution_count": 38,
   "metadata": {},
   "outputs": [
    {
     "name": "stdout",
     "output_type": "stream",
     "text": [
      "version: '1.0'\n",
      "\n",
      "description: A workflow that gets the apod and echos results.\n",
      "\n",
      "tasks:\n",
      "  get_apod_url:\n",
      "    action: tektalk.nasa_apod\n",
      "    input:\n",
      "      date: <%now().format(\"%Y-%m-%d\")%>\n",
      "    next:\n",
      "      - when: <% succeeded() %>\n",
      "        publish:\n",
      "          - apod: <% result().stdout %>\n",
      "        do: echo_results\n",
      "\n",
      "  echo_results:\n",
      "    action: core.echo\n",
      "    input:\n",
      "      message: \"<% ctx().apod %>\"\n",
      "    next: \n",
      "      - when: <% succeeded() %>\n",
      "        do: uname\n",
      "\n",
      "  uname: \n",
      "    action: core.local\n",
      "    input:\n",
      "      cmd: \"uname -a\"\n",
      "  "
     ]
    }
   ],
   "source": [
    "%%bash\n",
    "cat /opt/stackstorm/packs/tektalk/actions/workflows/nasa_apod_workflow.yaml"
   ]
  },
  {
   "cell_type": "code",
   "execution_count": null,
   "metadata": {},
   "outputs": [],
   "source": []
  }
 ],
 "metadata": {
  "kernelspec": {
   "display_name": "Python 3",
   "language": "python",
   "name": "python3"
  },
  "language_info": {
   "codemirror_mode": {
    "name": "ipython",
    "version": 3
   },
   "file_extension": ".py",
   "mimetype": "text/x-python",
   "name": "python",
   "nbconvert_exporter": "python",
   "pygments_lexer": "ipython3",
   "version": "3.7.3"
  }
 },
 "nbformat": 4,
 "nbformat_minor": 2
}
